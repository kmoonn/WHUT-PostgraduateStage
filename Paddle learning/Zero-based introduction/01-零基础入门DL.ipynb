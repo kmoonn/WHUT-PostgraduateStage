{
 "cells": [
  {
   "cell_type": "code",
   "execution_count": null,
   "id": "initial_id",
   "metadata": {
    "collapsed": true
   },
   "outputs": [],
   "source": [
    "# paddlepaddle==2.3\n",
    "# Jupyter Notebook\n",
    "# Python编程\n",
    "# ML、DL理论知识"
   ]
  },
  {
   "cell_type": "markdown",
   "source": [
    "# ML\n",
    "监督学习\n",
    "两步:训练 + 预测\n",
    "确定模型参数w\n",
    "模型有效的基本条件是能够拟合已知的样本\n",
    "损失函数（损失Loss）：衡量模型预测值和真实值差距的评价函数\n",
    "模型假设、评价函数（损失/优化目标）和优化算法是构成模型的三个关键要素\n",
    "学习的本质是“参数估计”"
   ],
   "metadata": {
    "collapsed": false
   },
   "id": "4f8bc40ae3161c30"
  },
  {
   "cell_type": "markdown",
   "source": [
    "# DL\n",
    "两者在理论结构上是一致的，即：模型假设、评价函数和优化算法，其根本差别在于假设的复杂度。\n",
    "神经网络\n",
    "神经网络基本单元——感知机\n",
    "人工神经网络包括多个神经网络层，如：卷积层、全连接层、LSTM等，每一层又包括很多神经元，超过三层的非线性神经网络都可以被称为深度神经网络\n",
    "神经元： 神经网络中每个节点称为神经元，由两部分组成：\n",
    "- 加权和：将所有输入加权求和。\n",
    "- 非线性变换（激活函数）：加权和的结果经过一个非线性函数变换，让神经元计算具备非线性的能力。"
   ],
   "metadata": {
    "collapsed": false
   },
   "id": "e4126ab49babfe9e"
  },
  {
   "cell_type": "markdown",
   "source": [
    "神经网络的基本概念（如神经元、多层连接、前向计算、计算图）\n",
    "模型结构三要素（模型假设、评价函数和优化算法）"
   ],
   "metadata": {
    "collapsed": false
   },
   "id": "d6211b42d9716b36"
  },
  {
   "cell_type": "markdown",
   "source": [
    "# 波士顿房价预测"
   ],
   "metadata": {
    "collapsed": false
   },
   "id": "341ee73416f36752"
  },
  {
   "cell_type": "code",
   "outputs": [],
   "source": [
    "# Numpy\n",
    "# 多因素\n",
    "# 预测问题：回归（连续的实数值） + 分类（离散的标签）\n",
    "# 线性回归模型：权重和偏置 使用均方误差作为损失函数（Loss）"
   ],
   "metadata": {
    "collapsed": false
   },
   "id": "afa88e79a1bf2a18"
  },
  {
   "cell_type": "code",
   "outputs": [
    {
     "data": {
      "text/plain": "array([6.320e-03, 1.800e+01, 2.310e+00, ..., 3.969e+02, 7.880e+00,\n       1.190e+01])"
     },
     "execution_count": 4,
     "metadata": {},
     "output_type": "execute_result"
    }
   ],
   "source": [
    "# 数据处理\n",
    "'''\n",
    "数据导入、数据形状变换、数据集划分、数据归一化处理和封装load data函数。\n",
    "'''\n",
    "# 读入数据\n",
    "import numpy as np\n",
    "import json\n",
    "\n",
    "datafile = './work/housing.data'\n",
    "data = np.fromfile(datafile,sep=' ')\n",
    "data"
   ],
   "metadata": {
    "collapsed": false,
    "ExecuteTime": {
     "end_time": "2024-03-20T14:54:35.336402Z",
     "start_time": "2024-03-20T14:54:35.322440Z"
    }
   },
   "id": "2f0e5a5730ef02a5",
   "execution_count": 4
  },
  {
   "cell_type": "code",
   "outputs": [
    {
     "name": "stdout",
     "output_type": "stream",
     "text": [
      "(14,)\n"
     ]
    },
    {
     "data": {
      "text/plain": "array([6.320e-03, 1.800e+01, 2.310e+00, 0.000e+00, 5.380e-01, 6.575e+00,\n       6.520e+01, 4.090e+00, 1.000e+00, 2.960e+02, 1.530e+01, 3.969e+02,\n       4.980e+00, 2.400e+01])"
     },
     "execution_count": 5,
     "metadata": {},
     "output_type": "execute_result"
    }
   ],
   "source": [
    "# 数据形状变换\n",
    "feature_names = [ 'CRIM', 'ZN', 'INDUS', 'CHAS', 'NOX', 'RM', 'AGE','DIS', 'RAD', 'TAX', 'PTRATIO', 'B', 'LSTAT', 'MEDV' ]\n",
    "feature_num = len(feature_names)\n",
    "#对原始数据做reshape，变成N x 14的形式\n",
    "data= data.reshape([data.shape[0] // feature_num,feature_num])\n",
    "\n",
    "x = data[0]\n",
    "print(x.shape)\n",
    "x"
   ],
   "metadata": {
    "collapsed": false,
    "ExecuteTime": {
     "end_time": "2024-03-20T14:54:40.089404Z",
     "start_time": "2024-03-20T14:54:40.072450Z"
    }
   },
   "id": "3e03fd3cd0ce6e5",
   "execution_count": 5
  },
  {
   "cell_type": "code",
   "outputs": [
    {
     "data": {
      "text/plain": "(404, 14)"
     },
     "execution_count": 7,
     "metadata": {},
     "output_type": "execute_result"
    }
   ],
   "source": [
    "# 数据集划分\n",
    "# 训练集 测试集\n",
    "# 训练集用于确定模型的参数，测试集用于评判模型的效果\n",
    "ratio = 0.8\n",
    "offset = int(data.shape[0] * ratio)\n",
    "training_data, test_data = data[:offset], data[offset:]\n",
    "training_data.shape"
   ],
   "metadata": {
    "collapsed": false,
    "ExecuteTime": {
     "end_time": "2024-03-20T14:57:51.086544Z",
     "start_time": "2024-03-20T14:57:51.068589Z"
    }
   },
   "id": "85cdb1764d52c71c",
   "execution_count": 7
  },
  {
   "cell_type": "code",
   "outputs": [
    {
     "data": {
      "text/plain": "array([[6.10928046e-03, 1.80000000e+01, 2.25736239e+00, ...,\n        3.96250661e+02, 4.84070350e+00, 2.36740192e+01],\n       [2.70992805e-02, 0.00000000e+00, 7.01736239e+00, ...,\n        3.96250661e+02, 9.00070350e+00, 2.12740192e+01],\n       [2.70792805e-02, 0.00000000e+00, 7.01736239e+00, ...,\n        3.92180661e+02, 3.89070350e+00, 3.43740192e+01],\n       ...,\n       [6.05492805e-02, 0.00000000e+00, 1.18773624e+01, ...,\n        3.96250661e+02, 5.50070350e+00, 2.35740192e+01],\n       [1.09379280e-01, 0.00000000e+00, 1.18773624e+01, ...,\n        3.92800661e+02, 6.34070350e+00, 2.16740192e+01],\n       [4.71992805e-02, 0.00000000e+00, 1.18773624e+01, ...,\n        3.96250661e+02, 7.74070350e+00, 1.15740192e+01]])"
     },
     "execution_count": 11,
     "metadata": {},
     "output_type": "execute_result"
    }
   ],
   "source": [
    "# 数据归一化处理\n",
    "# 对每个特征进行归一化处理，使得每个特征的取值缩放到0~1之间。\n",
    "\n",
    "#计算train数据集的最大值、最小值\n",
    "maximums,minimums = training_data.max(axis=0),training_data.min(axis=0)\n",
    "\n",
    "# 对数据进行归一化处理\n",
    "for i in range(feature_num):\n",
    "    data[:,i] = (data[:,i]-minimums[i]/(maximums[i]-minimums[i]))\n",
    "\n",
    "data"
   ],
   "metadata": {
    "collapsed": false,
    "ExecuteTime": {
     "end_time": "2024-03-20T15:02:27.365894Z",
     "start_time": "2024-03-20T15:02:27.356919Z"
    }
   },
   "id": "5c4fa53306f72c95",
   "execution_count": 11
  },
  {
   "cell_type": "code",
   "outputs": [],
   "source": [],
   "metadata": {
    "collapsed": false
   },
   "id": "5b6ed3e528c3470b"
  }
 ],
 "metadata": {
  "kernelspec": {
   "display_name": "Python 3",
   "language": "python",
   "name": "python3"
  },
  "language_info": {
   "codemirror_mode": {
    "name": "ipython",
    "version": 2
   },
   "file_extension": ".py",
   "mimetype": "text/x-python",
   "name": "python",
   "nbconvert_exporter": "python",
   "pygments_lexer": "ipython2",
   "version": "2.7.6"
  }
 },
 "nbformat": 4,
 "nbformat_minor": 5
}
