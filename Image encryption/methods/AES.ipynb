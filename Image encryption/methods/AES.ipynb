{
 "cells": [
  {
   "cell_type": "code",
   "outputs": [],
   "source": [
    "import paddle\n",
    "import matplotlib.pyplot as plt\n",
    "import numpy as np"
   ],
   "metadata": {
    "collapsed": false,
    "ExecuteTime": {
     "end_time": "2024-03-20T13:29:21.628081Z",
     "start_time": "2024-03-20T13:29:21.621100Z"
    }
   },
   "id": "fb0089b065007482",
   "execution_count": 29
  },
  {
   "cell_type": "code",
   "outputs": [],
   "source": [
    "# 设置数据读取器，API自动读取MNIST数据训练集\n",
    "train_dataset = paddle.vision.datasets.MNIST(mode='train')\n",
    "data = np.array(train_dataset[0][0])\n",
    "label = np.array(train_dataset[0][1])"
   ],
   "metadata": {
    "collapsed": false,
    "ExecuteTime": {
     "end_time": "2024-03-20T13:29:23.986648Z",
     "start_time": "2024-03-20T13:29:21.636060Z"
    }
   },
   "id": "c10476bf76e5a0a1",
   "execution_count": 30
  },
  {
   "cell_type": "code",
   "outputs": [],
   "source": [
    "def showImage(data,label,flag=0):\n",
    "    if flag==0:\n",
    "        plt.figure(figsize=(2,2))\n",
    "        plt.imshow(data, cmap=plt.cm.binary)\n",
    "        plt.axis('on') # 关掉坐标轴为 off\n",
    "        plt.title(f'original image : {label[0]}') # 图像题目\n",
    "        plt.show()\n",
    "        return data,label\n",
    "    if flag:\n",
    "        plt.figure(figsize=(2,2))\n",
    "        plt.imshow(data, cmap=plt.cm.binary)\n",
    "        plt.axis('on') # 关掉坐标轴为 off\n",
    "        plt.title(f'encrypted image : {label[0]}\\n method : {label[1]}') # 图像题目\n",
    "        plt.show() "
   ],
   "metadata": {
    "collapsed": false,
    "ExecuteTime": {
     "end_time": "2024-03-20T13:29:24.002243Z",
     "start_time": "2024-03-20T13:29:23.988479Z"
    }
   },
   "id": "7c6c7403b8ddcd62",
   "execution_count": 31
  },
  {
   "cell_type": "code",
   "execution_count": 32,
   "id": "initial_id",
   "metadata": {
    "collapsed": true,
    "ExecuteTime": {
     "end_time": "2024-03-20T13:29:24.018201Z",
     "start_time": "2024-03-20T13:29:24.003241Z"
    }
   },
   "outputs": [],
   "source": [
    "from Crypto.Cipher import AES  \n",
    "from Crypto.Util.Padding import pad, unpad  \n",
    "from Crypto.Random import get_random_bytes  \n",
    "import numpy as np  \n",
    "  \n",
    "class ImageAESEncrypter:  \n",
    "    def __init__(self, key):  \n",
    "        # 如果key是字符串，则将其转换为字节序列；如果已经是字节序列，则保持不变  \n",
    "        if isinstance(key, str):  \n",
    "            self.key = key.encode('utf-8')  \n",
    "        else:  \n",
    "            self.key = key  \n",
    "        self.cipher = AES.new(self.key, AES.MODE_CBC)  # 使用CBC模式，并生成一个随机的IV  \n",
    "  \n",
    "    def encrypt_image(self, image,label):  \n",
    "        flattened_image = image.flatten().tolist()  # 将图像数据扁平化为一维列表  \n",
    "        # 将图像数据转换为字节序列（注意：这里假设图像数据可以无损地转换为字节）  \n",
    "        image_data = bytes(flattened_image)  \n",
    "        # 对数据进行填充以满足AES块大小  \n",
    "        padded_data = pad(image_data, AES.block_size)  \n",
    "\n",
    "        encrypted_data = self.cipher.encrypt(padded_data)  \n",
    "        transformed_label = np.append(label,'AES')\n",
    "\n",
    "        return encrypted_data  ,transformed_label "
   ]
  },
  {
   "cell_type": "code",
   "outputs": [
    {
     "data": {
      "text/plain": "<Figure size 200x200 with 1 Axes>",
      "image/png": "[encoded data removed]"
     },
     "metadata": {},
     "output_type": "display_data"
    },
    {
     "ename": "TypeError",
     "evalue": "Image data of dtype |S800 cannot be converted to float",
     "output_type": "error",
     "traceback": [
      "\u001B[1;31m---------------------------------------------------------------------------\u001B[0m",
      "\u001B[1;31mTypeError\u001B[0m                                 Traceback (most recent call last)",
      "Cell \u001B[1;32mIn[34], line 12\u001B[0m\n\u001B[0;32m      9\u001B[0m \u001B[38;5;66;03m# 加密图像  \u001B[39;00m\n\u001B[0;32m     10\u001B[0m encrypted_data,transformed_label \u001B[38;5;241m=\u001B[39m encrypter\u001B[38;5;241m.\u001B[39mencrypt_image(data,label)  \n\u001B[1;32m---> 12\u001B[0m \u001B[43mshowImage\u001B[49m\u001B[43m(\u001B[49m\u001B[43mencrypted_data\u001B[49m\u001B[43m,\u001B[49m\u001B[43mtransformed_label\u001B[49m\u001B[43m,\u001B[49m\u001B[43mflag\u001B[49m\u001B[38;5;241;43m=\u001B[39;49m\u001B[38;5;241;43m1\u001B[39;49m\u001B[43m)\u001B[49m\n",
      "Cell \u001B[1;32mIn[31], line 11\u001B[0m, in \u001B[0;36mshowImage\u001B[1;34m(data, label, flag)\u001B[0m\n\u001B[0;32m      9\u001B[0m \u001B[38;5;28;01mif\u001B[39;00m flag:\n\u001B[0;32m     10\u001B[0m     plt\u001B[38;5;241m.\u001B[39mfigure(figsize\u001B[38;5;241m=\u001B[39m(\u001B[38;5;241m2\u001B[39m,\u001B[38;5;241m2\u001B[39m))\n\u001B[1;32m---> 11\u001B[0m     \u001B[43mplt\u001B[49m\u001B[38;5;241;43m.\u001B[39;49m\u001B[43mimshow\u001B[49m\u001B[43m(\u001B[49m\u001B[43mdata\u001B[49m\u001B[43m,\u001B[49m\u001B[43m \u001B[49m\u001B[43mcmap\u001B[49m\u001B[38;5;241;43m=\u001B[39;49m\u001B[43mplt\u001B[49m\u001B[38;5;241;43m.\u001B[39;49m\u001B[43mcm\u001B[49m\u001B[38;5;241;43m.\u001B[39;49m\u001B[43mbinary\u001B[49m\u001B[43m)\u001B[49m\n\u001B[0;32m     12\u001B[0m     plt\u001B[38;5;241m.\u001B[39maxis(\u001B[38;5;124m'\u001B[39m\u001B[38;5;124mon\u001B[39m\u001B[38;5;124m'\u001B[39m) \u001B[38;5;66;03m# 关掉坐标轴为 off\u001B[39;00m\n\u001B[0;32m     13\u001B[0m     plt\u001B[38;5;241m.\u001B[39mtitle(\u001B[38;5;124mf\u001B[39m\u001B[38;5;124m'\u001B[39m\u001B[38;5;124mencrypted image : \u001B[39m\u001B[38;5;132;01m{\u001B[39;00mlabel[\u001B[38;5;241m0\u001B[39m]\u001B[38;5;132;01m}\u001B[39;00m\u001B[38;5;130;01m\\n\u001B[39;00m\u001B[38;5;124m method : \u001B[39m\u001B[38;5;132;01m{\u001B[39;00mlabel[\u001B[38;5;241m1\u001B[39m]\u001B[38;5;132;01m}\u001B[39;00m\u001B[38;5;124m'\u001B[39m) \u001B[38;5;66;03m# 图像题目\u001B[39;00m\n",
      "File \u001B[1;32mD:\\python310\\lib\\site-packages\\matplotlib\\pyplot.py:3358\u001B[0m, in \u001B[0;36mimshow\u001B[1;34m(X, cmap, norm, aspect, interpolation, alpha, vmin, vmax, origin, extent, interpolation_stage, filternorm, filterrad, resample, url, data, **kwargs)\u001B[0m\n\u001B[0;32m   3337\u001B[0m \u001B[38;5;129m@_copy_docstring_and_deprecators\u001B[39m(Axes\u001B[38;5;241m.\u001B[39mimshow)\n\u001B[0;32m   3338\u001B[0m \u001B[38;5;28;01mdef\u001B[39;00m \u001B[38;5;21mimshow\u001B[39m(\n\u001B[0;32m   3339\u001B[0m     X: ArrayLike \u001B[38;5;241m|\u001B[39m PIL\u001B[38;5;241m.\u001B[39mImage\u001B[38;5;241m.\u001B[39mImage,\n\u001B[1;32m   (...)\u001B[0m\n\u001B[0;32m   3356\u001B[0m     \u001B[38;5;241m*\u001B[39m\u001B[38;5;241m*\u001B[39mkwargs,\n\u001B[0;32m   3357\u001B[0m ) \u001B[38;5;241m-\u001B[39m\u001B[38;5;241m>\u001B[39m AxesImage:\n\u001B[1;32m-> 3358\u001B[0m     __ret \u001B[38;5;241m=\u001B[39m gca()\u001B[38;5;241m.\u001B[39mimshow(\n\u001B[0;32m   3359\u001B[0m         X,\n\u001B[0;32m   3360\u001B[0m         cmap\u001B[38;5;241m=\u001B[39mcmap,\n\u001B[0;32m   3361\u001B[0m         norm\u001B[38;5;241m=\u001B[39mnorm,\n\u001B[0;32m   3362\u001B[0m         aspect\u001B[38;5;241m=\u001B[39maspect,\n\u001B[0;32m   3363\u001B[0m         interpolation\u001B[38;5;241m=\u001B[39minterpolation,\n\u001B[0;32m   3364\u001B[0m         alpha\u001B[38;5;241m=\u001B[39malpha,\n\u001B[0;32m   3365\u001B[0m         vmin\u001B[38;5;241m=\u001B[39mvmin,\n\u001B[0;32m   3366\u001B[0m         vmax\u001B[38;5;241m=\u001B[39mvmax,\n\u001B[0;32m   3367\u001B[0m         origin\u001B[38;5;241m=\u001B[39morigin,\n\u001B[0;32m   3368\u001B[0m         extent\u001B[38;5;241m=\u001B[39mextent,\n\u001B[0;32m   3369\u001B[0m         interpolation_stage\u001B[38;5;241m=\u001B[39minterpolation_stage,\n\u001B[0;32m   3370\u001B[0m         filternorm\u001B[38;5;241m=\u001B[39mfilternorm,\n\u001B[0;32m   3371\u001B[0m         filterrad\u001B[38;5;241m=\u001B[39mfilterrad,\n\u001B[0;32m   3372\u001B[0m         resample\u001B[38;5;241m=\u001B[39mresample,\n\u001B[0;32m   3373\u001B[0m         url\u001B[38;5;241m=\u001B[39murl,\n\u001B[0;32m   3374\u001B[0m         \u001B[38;5;241m*\u001B[39m\u001B[38;5;241m*\u001B[39m({\u001B[38;5;124m\"\u001B[39m\u001B[38;5;124mdata\u001B[39m\u001B[38;5;124m\"\u001B[39m: data} \u001B[38;5;28;01mif\u001B[39;00m data \u001B[38;5;129;01mis\u001B[39;00m \u001B[38;5;129;01mnot\u001B[39;00m \u001B[38;5;28;01mNone\u001B[39;00m \u001B[38;5;28;01melse\u001B[39;00m {}),\n\u001B[0;32m   3375\u001B[0m         \u001B[38;5;241m*\u001B[39m\u001B[38;5;241m*\u001B[39mkwargs,\n\u001B[0;32m   3376\u001B[0m     )\n\u001B[0;32m   3377\u001B[0m     sci(__ret)\n\u001B[0;32m   3378\u001B[0m     \u001B[38;5;28;01mreturn\u001B[39;00m __ret\n",
      "File \u001B[1;32mD:\\python310\\lib\\site-packages\\matplotlib\\__init__.py:1478\u001B[0m, in \u001B[0;36m_preprocess_data.<locals>.inner\u001B[1;34m(ax, data, *args, **kwargs)\u001B[0m\n\u001B[0;32m   1475\u001B[0m \u001B[38;5;129m@functools\u001B[39m\u001B[38;5;241m.\u001B[39mwraps(func)\n\u001B[0;32m   1476\u001B[0m \u001B[38;5;28;01mdef\u001B[39;00m \u001B[38;5;21minner\u001B[39m(ax, \u001B[38;5;241m*\u001B[39margs, data\u001B[38;5;241m=\u001B[39m\u001B[38;5;28;01mNone\u001B[39;00m, \u001B[38;5;241m*\u001B[39m\u001B[38;5;241m*\u001B[39mkwargs):\n\u001B[0;32m   1477\u001B[0m     \u001B[38;5;28;01mif\u001B[39;00m data \u001B[38;5;129;01mis\u001B[39;00m \u001B[38;5;28;01mNone\u001B[39;00m:\n\u001B[1;32m-> 1478\u001B[0m         \u001B[38;5;28;01mreturn\u001B[39;00m func(ax, \u001B[38;5;241m*\u001B[39m\u001B[38;5;28mmap\u001B[39m(sanitize_sequence, args), \u001B[38;5;241m*\u001B[39m\u001B[38;5;241m*\u001B[39mkwargs)\n\u001B[0;32m   1480\u001B[0m     bound \u001B[38;5;241m=\u001B[39m new_sig\u001B[38;5;241m.\u001B[39mbind(ax, \u001B[38;5;241m*\u001B[39margs, \u001B[38;5;241m*\u001B[39m\u001B[38;5;241m*\u001B[39mkwargs)\n\u001B[0;32m   1481\u001B[0m     auto_label \u001B[38;5;241m=\u001B[39m (bound\u001B[38;5;241m.\u001B[39marguments\u001B[38;5;241m.\u001B[39mget(label_namer)\n\u001B[0;32m   1482\u001B[0m                   \u001B[38;5;129;01mor\u001B[39;00m bound\u001B[38;5;241m.\u001B[39mkwargs\u001B[38;5;241m.\u001B[39mget(label_namer))\n",
      "File \u001B[1;32mD:\\python310\\lib\\site-packages\\matplotlib\\axes\\_axes.py:5759\u001B[0m, in \u001B[0;36mAxes.imshow\u001B[1;34m(self, X, cmap, norm, aspect, interpolation, alpha, vmin, vmax, origin, extent, interpolation_stage, filternorm, filterrad, resample, url, **kwargs)\u001B[0m\n\u001B[0;32m   5756\u001B[0m \u001B[38;5;28;01mif\u001B[39;00m aspect \u001B[38;5;129;01mis\u001B[39;00m \u001B[38;5;129;01mnot\u001B[39;00m \u001B[38;5;28;01mNone\u001B[39;00m:\n\u001B[0;32m   5757\u001B[0m     \u001B[38;5;28mself\u001B[39m\u001B[38;5;241m.\u001B[39mset_aspect(aspect)\n\u001B[1;32m-> 5759\u001B[0m \u001B[43mim\u001B[49m\u001B[38;5;241;43m.\u001B[39;49m\u001B[43mset_data\u001B[49m\u001B[43m(\u001B[49m\u001B[43mX\u001B[49m\u001B[43m)\u001B[49m\n\u001B[0;32m   5760\u001B[0m im\u001B[38;5;241m.\u001B[39mset_alpha(alpha)\n\u001B[0;32m   5761\u001B[0m \u001B[38;5;28;01mif\u001B[39;00m im\u001B[38;5;241m.\u001B[39mget_clip_path() \u001B[38;5;129;01mis\u001B[39;00m \u001B[38;5;28;01mNone\u001B[39;00m:\n\u001B[0;32m   5762\u001B[0m     \u001B[38;5;66;03m# image does not already have clipping set, clip to axes patch\u001B[39;00m\n",
      "File \u001B[1;32mD:\\python310\\lib\\site-packages\\matplotlib\\image.py:723\u001B[0m, in \u001B[0;36m_ImageBase.set_data\u001B[1;34m(self, A)\u001B[0m\n\u001B[0;32m    721\u001B[0m \u001B[38;5;28;01mif\u001B[39;00m \u001B[38;5;28misinstance\u001B[39m(A, PIL\u001B[38;5;241m.\u001B[39mImage\u001B[38;5;241m.\u001B[39mImage):\n\u001B[0;32m    722\u001B[0m     A \u001B[38;5;241m=\u001B[39m pil_to_array(A)  \u001B[38;5;66;03m# Needed e.g. to apply png palette.\u001B[39;00m\n\u001B[1;32m--> 723\u001B[0m \u001B[38;5;28mself\u001B[39m\u001B[38;5;241m.\u001B[39m_A \u001B[38;5;241m=\u001B[39m \u001B[38;5;28;43mself\u001B[39;49m\u001B[38;5;241;43m.\u001B[39;49m\u001B[43m_normalize_image_array\u001B[49m\u001B[43m(\u001B[49m\u001B[43mA\u001B[49m\u001B[43m)\u001B[49m\n\u001B[0;32m    724\u001B[0m \u001B[38;5;28mself\u001B[39m\u001B[38;5;241m.\u001B[39m_imcache \u001B[38;5;241m=\u001B[39m \u001B[38;5;28;01mNone\u001B[39;00m\n\u001B[0;32m    725\u001B[0m \u001B[38;5;28mself\u001B[39m\u001B[38;5;241m.\u001B[39mstale \u001B[38;5;241m=\u001B[39m \u001B[38;5;28;01mTrue\u001B[39;00m\n",
      "File \u001B[1;32mD:\\python310\\lib\\site-packages\\matplotlib\\image.py:688\u001B[0m, in \u001B[0;36m_ImageBase._normalize_image_array\u001B[1;34m(A)\u001B[0m\n\u001B[0;32m    686\u001B[0m A \u001B[38;5;241m=\u001B[39m cbook\u001B[38;5;241m.\u001B[39msafe_masked_invalid(A, copy\u001B[38;5;241m=\u001B[39m\u001B[38;5;28;01mTrue\u001B[39;00m)\n\u001B[0;32m    687\u001B[0m \u001B[38;5;28;01mif\u001B[39;00m A\u001B[38;5;241m.\u001B[39mdtype \u001B[38;5;241m!=\u001B[39m np\u001B[38;5;241m.\u001B[39muint8 \u001B[38;5;129;01mand\u001B[39;00m \u001B[38;5;129;01mnot\u001B[39;00m np\u001B[38;5;241m.\u001B[39mcan_cast(A\u001B[38;5;241m.\u001B[39mdtype, \u001B[38;5;28mfloat\u001B[39m, \u001B[38;5;124m\"\u001B[39m\u001B[38;5;124msame_kind\u001B[39m\u001B[38;5;124m\"\u001B[39m):\n\u001B[1;32m--> 688\u001B[0m     \u001B[38;5;28;01mraise\u001B[39;00m \u001B[38;5;167;01mTypeError\u001B[39;00m(\u001B[38;5;124mf\u001B[39m\u001B[38;5;124m\"\u001B[39m\u001B[38;5;124mImage data of dtype \u001B[39m\u001B[38;5;132;01m{\u001B[39;00mA\u001B[38;5;241m.\u001B[39mdtype\u001B[38;5;132;01m}\u001B[39;00m\u001B[38;5;124m cannot be \u001B[39m\u001B[38;5;124m\"\u001B[39m\n\u001B[0;32m    689\u001B[0m                     \u001B[38;5;124mf\u001B[39m\u001B[38;5;124m\"\u001B[39m\u001B[38;5;124mconverted to float\u001B[39m\u001B[38;5;124m\"\u001B[39m)\n\u001B[0;32m    690\u001B[0m \u001B[38;5;28;01mif\u001B[39;00m A\u001B[38;5;241m.\u001B[39mndim \u001B[38;5;241m==\u001B[39m \u001B[38;5;241m3\u001B[39m \u001B[38;5;129;01mand\u001B[39;00m A\u001B[38;5;241m.\u001B[39mshape[\u001B[38;5;241m-\u001B[39m\u001B[38;5;241m1\u001B[39m] \u001B[38;5;241m==\u001B[39m \u001B[38;5;241m1\u001B[39m:\n\u001B[0;32m    691\u001B[0m     A \u001B[38;5;241m=\u001B[39m A\u001B[38;5;241m.\u001B[39msqueeze(\u001B[38;5;241m-\u001B[39m\u001B[38;5;241m1\u001B[39m)  \u001B[38;5;66;03m# If just (M, N, 1), assume scalar and apply colormap.\u001B[39;00m\n",
      "\u001B[1;31mTypeError\u001B[0m: Image data of dtype |S800 cannot be converted to float"
     ]
    },
    {
     "data": {
      "text/plain": "<Figure size 200x200 with 1 Axes>",
      "image/png": "[encoded data removed]"
     },
     "metadata": {},
     "output_type": "display_data"
    }
   ],
   "source": [
    "# 示例使用  \n",
    "key = get_random_bytes(16)  \n",
    "      \n",
    "data,label = showImage(data,label)\n",
    "      \n",
    "# 创建加密器实例  \n",
    "encrypter = ImageAESEncrypter(key)\n",
    "\n",
    "# 加密图像  \n",
    "encrypted_data,transformed_label = encrypter.encrypt_image(data,label)  \n",
    "      \n",
    "showImage(encrypted_data,transformed_label,flag=1)"
   ],
   "metadata": {
    "collapsed": false,
    "ExecuteTime": {
     "end_time": "2024-03-20T13:29:37.376812Z",
     "start_time": "2024-03-20T13:29:37.126475Z"
    }
   },
   "id": "2360aa6f7bbdb6f7",
   "execution_count": 34
  },
  {
   "cell_type": "code",
   "outputs": [
    {
     "ename": "TabError",
     "evalue": "inconsistent use of tabs and spaces in indentation (3457281881.py, line 10)",
     "output_type": "error",
     "traceback": [
      "\u001B[1;36m  Cell \u001B[1;32mIn[35], line 10\u001B[1;36m\u001B[0m\n\u001B[1;33m    '''\u001B[0m\n\u001B[1;37m    ^\u001B[0m\n\u001B[1;31mTabError\u001B[0m\u001B[1;31m:\u001B[0m inconsistent use of tabs and spaces in indentation\n"
     ]
    }
   ],
   "source": [
    "# coding: utf-8\n",
    "from Crypto.Cipher import AES\n",
    "import base64\n",
    "\n",
    "class Aes(object):\n",
    "\n",
    "    def __init__(self, securityKey, iv):\n",
    "        self.securityKey = securityKey\n",
    "        self.iv = iv\n",
    "\t'''\n",
    "\t加密\n",
    "\t@param string $plainText 明文\n",
    "\t'''\n",
    "    def encrypt(self, plainText):\n",
    "        plainText = self.addPKCS7Padding(plainText)\n",
    "        cipher = AES.new(self.securityKey, AES.MODE_CBC, self.iv)\n",
    "        encrypted = cipher.encrypt(plainText)\n",
    "        return base64.b64encode(encrypted)\n",
    "\t'''\n",
    "\t解密\n",
    "\t@param string $cipherText 密文\n",
    "\t'''\n",
    "    def decrypt(self, cipherText):\n",
    "        cipherText = base64.b64decode(cipherText)\n",
    "        cipher = AES.new(self.securityKey, AES.MODE_CBC, self.iv)\n",
    "        decrypted = cipher.decrypt(cipherText)\n",
    "        decrypted = self.stripPKSC7Padding(decrypted)\n",
    "        return decrypted\n",
    "\t'''\n",
    "     填充算法\n",
    "     @param string $source\n",
    "     @return string\n",
    "\t'''\n",
    "    def addPKCS7Padding(self, source):\n",
    "        block = AES.block_size\n",
    "        padding = block - len(source) % block\n",
    "        padding_text = chr(padding) * padding\n",
    "        return source + padding_text\n",
    "    '''\n",
    "     移去填充算法\n",
    "     @param string $source\n",
    "     @return string\n",
    "    '''\n",
    "    def stripPKSC7Padding(self, source):\n",
    "        lengt = len(source)\n",
    "        unpadding = ord(source[lengt - 1])\n",
    "        return source[0:lengt-unpadding]\n",
    "\n",
    "if __name__ == '__main__':\n",
    "\t\n",
    "\tsecurityKey16 = 'Skesj(eE%32sLOap'\n",
    "\tsecurityKey24 = 'Skesj(eE%32sLOapA9e2snEw'\n",
    "\tsecurityKey32 = 'Skesj(eE%32sLOapA9e2snEwEeopsWui'\n",
    "\tiv = \"1234567890123456\"\n",
    "\taes = Aes(securityKey16, iv)\n",
    "\tplainText = \"我是python内容\";\n",
    "\tcipherText = aes.encrypt(plainText)\n",
    "\tprint('Python程序')\n",
    "\tprint('加密前的明文：'+plainText)\n",
    "\tprint('加密后的密文：'+ cipherText)\n",
    "\toutPlainText = aes.decrypt(cipherText)\n",
    "\tprint('解密后明文：'+ outPlainText)"
   ],
   "metadata": {
    "collapsed": false,
    "ExecuteTime": {
     "end_time": "2024-03-20T13:43:00.278521Z",
     "start_time": "2024-03-20T13:43:00.260569Z"
    }
   },
   "id": "e309df1bda1b0e81",
   "execution_count": 35
  },
  {
   "cell_type": "code",
   "outputs": [],
   "source": [],
   "metadata": {
    "collapsed": false
   },
   "id": "b8e3f2e91747ab58"
  }
 ],
 "metadata": {
  "kernelspec": {
   "display_name": "Python 3",
   "language": "python",
   "name": "python3"
  },
  "language_info": {
   "codemirror_mode": {
    "name": "ipython",
    "version": 2
   },
   "file_extension": ".py",
   "mimetype": "text/x-python",
   "name": "python",
   "nbconvert_exporter": "python",
   "pygments_lexer": "ipython2",
   "version": "2.7.6"
  }
 },
 "nbformat": 4,
 "nbformat_minor": 5
}
